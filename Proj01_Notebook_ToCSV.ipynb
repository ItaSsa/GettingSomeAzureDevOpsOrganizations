{
  "nbformat": 4,
  "nbformat_minor": 0,
  "metadata": {
    "colab": {
      "provenance": [],
      "include_colab_link": true
    },
    "kernelspec": {
      "name": "python3",
      "display_name": "Python 3"
    },
    "language_info": {
      "name": "python"
    }
  },
  "cells": [
    {
      "cell_type": "markdown",
      "metadata": {
        "id": "view-in-github",
        "colab_type": "text"
      },
      "source": [
        "<a href=\"https://colab.research.google.com/github/ItaSsa/GettingSomeAzureDevOpsOrganizations/blob/main/Proj01_Notebook_ToCSV.ipynb\" target=\"_parent\"><img src=\"https://colab.research.google.com/assets/colab-badge.svg\" alt=\"Open In Colab\"/></a>"
      ]
    },
    {
      "cell_type": "code",
      "source": [
        "# Let's go!:)\n",
        "\n",
        "# Adcquiring this pretty libary :)\n",
        "\n",
        "!pip install azure-devops"
      ],
      "metadata": {
        "id": "N4MPZJ5y0P-P"
      },
      "execution_count": null,
      "outputs": []
    },
    {
      "cell_type": "code",
      "execution_count": null,
      "metadata": {
        "id": "BgxqaR27ziP7"
      },
      "outputs": [],
      "source": [
        "\n",
        "\n",
        "# Now let's importe the libraries \n",
        "# We'll use WIQL \n",
        "\n",
        "from azure.devops.connection import Connection\n",
        "from msrest.authentication import BasicAuthentication\n",
        "from azure.devops.v5_1.work_item_tracking.models import Wiql\n",
        "import pandas as pd"
      ]
    },
    {
      "cell_type": "code",
      "source": [
        "# Setting connection variables\n",
        "token_list = (<token_org1>,<token_org2>)\n",
        "organization_name = (<Org_name1>,<Org_name2>)\n",
        "ad_link ='https://dev.azure.com/'\n"
      ],
      "metadata": {
        "id": "t5ZG9Qhf0If5"
      },
      "execution_count": null,
      "outputs": []
    },
    {
      "cell_type": "code",
      "source": [
        "#  Now putting my personal touch in a code whose source is bellow :)\n",
        "# This code had been adapted from this: https://stackoverflow.com/questions/52810441/how-to-extract-workitems-from-query-in-vsts-azure-devops-with-python-rest-api\n",
        " \n",
        "df = pd.DataFrame([])\n",
        "\n",
        "for i in range(len(organization_name)):\n",
        "      token = token_list[i]\n",
        "      org_name = organization_name[i]\n",
        "      team_instance = ad_link + org_name\n",
        "\n",
        "      #Get a connection\n",
        "      credentials = BasicAuthentication(\"\", token)\n",
        "      connection = Connection(base_url=team_instance, creds=credentials)\n",
        "\n",
        "      #Returning workitens to dataframe\n",
        "      #Functions\n",
        "      def print_work_itemsI(work_items):\n",
        "        workItemType_list = []\n",
        "        title_list = []\n",
        "        state_list =[]\n",
        "        asseginedTo_list =[]\n",
        "        areaPath_list  =[]\n",
        "\n",
        "        for work_item in work_items:\n",
        "              workItemType_list.append(work_item.fields[\"System.WorkItemType\"])\n",
        "              title_list.append(work_item.fields[\"System.Title\"])\n",
        "              state_list.append(work_item.fields[\"System.State\"])\n",
        "              user_t = list(work_item.fields[\"System.AssignedTo\"].values())\n",
        "              asseginedTo_list.append(user_t[0])\n",
        "              areaPath_list.append(work_item.fields[\"System.AreaPath\"])\n",
        "\n",
        "        # Here we are mounting the final result \n",
        "        data = [workItemType_list,title_list, state_list,asseginedTo_list,areaPath_list]\n",
        "        data_frame = pd.DataFrame(data)\n",
        "        data_frame = data_frame.T\n",
        "        data_frame.columns = ['WorkItemType','Title','State','AssignedTo','AreaPath']\n",
        "        return data_frame\n",
        "      \n",
        "      # Get a client (the \"core\" client provides access to projects, teams, etc)\n",
        "      # Source https://github.com/microsoft/azure-devops-python-api\n",
        "      wit_client = connection.clients.get_work_item_tracking_client()\n",
        "\n",
        "\n",
        "      def get_TC_from_query(query):\n",
        "          query_wiql = Wiql(query=query)\n",
        "          results = wit_client.query_by_wiql(query_wiql).work_items\n",
        "          # WIQL query gives a WorkItemReference => we get the corresponding WorkItem from id\n",
        "          work_items = (wit_client.get_work_item(int(result.id)) for result in results)\n",
        "          return print_work_itemsI(work_items)\n",
        "\n",
        "      #Mounting queries\n",
        "      #Filters\n",
        "      workitem_type = \"\"\"'issue'\"\"\"\n",
        "\n",
        "      #The query :)\n",
        "      query_A = f\"\"\"\\\n",
        "      SELECT\n",
        "              [System.Id],\n",
        "              [System.WorkItemType],\n",
        "              [System.Title],\n",
        "              [System.State],\n",
        "              [System.AreaPath],\n",
        "              [System.AssignedTo]\n",
        "      FROM workitems\n",
        "      WHERE\n",
        "            [System.WorkItemType] = {workitem_type}\n",
        "              \n",
        "      \"\"\"\n",
        "      #Exporting Data\n",
        "      df = df.append(get_TC_from_query(query_A),ignore_index = True)\n",
        "\n",
        "# Getting the final result\n",
        "# Here we could put this data in a database for example\n",
        "df.to_csv('WorkItemTable.csv', encoding='utf-8',sep=';')\n",
        "#print(df)\n"
      ],
      "metadata": {
        "id": "P9eRh_p5JW3z"
      },
      "execution_count": null,
      "outputs": []
    }
  ]
}